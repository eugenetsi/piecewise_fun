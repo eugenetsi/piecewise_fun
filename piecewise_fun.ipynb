{
  "cells": [
    {
      "cell_type": "markdown",
      "metadata": {
        "id": "Inz3piDLTSht"
      },
      "source": [
        "## Task:\n",
        "  - Design and implement a class to store and evaluate a piecewise constant function.\n",
        "  - Provide an evaluation function, i.e., to give its value (or fail) for any possible real number as input.\n",
        "  - Provide a function to get its minimum value and argmin.\n",
        "  - Provide a function to get its maximum value and argmax.\n",
        " \n",
        "## Bonus points:\n",
        "  - Provide sufficient correctness tests, using PyTest. Pay special attention to handling corner cases or bad input.\n",
        "  - Provide sufficient timing tests. At which point your functions struggles down \n",
        "  - Under which scenario would the 3 class methods slow down ?\n",
        "  - Provide a Jupyter notebook demonstrating the functionality of your class.\n",
        "  - Repeat for for a piecewise linear function."
      ]
    },
    {
      "cell_type": "markdown",
      "metadata": {
        "id": "Des0iZ6SckUV"
      },
      "source": [
        "--------------------------------------------------------------------------------\n",
        "## Design Choices:\n",
        "  - For ease, this is done entirely in a single notebook. Normally this would be split in defferent .py scripts, each one for a class, utils, requirements etc.\n",
        "  - If a range is wrong as in [2, 1] I chose to throw an exception.\n",
        "  - If there is overlap, I throw an exception and delegate the issue to the caller.\n",
        "  - I chose to create a internal private copy of the segments/pieces in order to not distrurb the original version of the calling user, but that can be changed easily for the sake of memory usage.\n",
        "  - I assume the computation load is going to be in the evaluate function so I prepare the data in the constructor. For the use case of multiple objects created and the evaluate function going to be called only once per object a different implementation is going to be optimal.\n",
        "  - If the number evaluated does not belong to a given range, I throw an exception.\n",
        "  - In the future if this library proves useful we can choose to write a base class to derive children for different kinds of equations, or overload the same one.\n",
        "  - For the linear version a variation point is whether we calculate the equation of the line in the contructor or in the evaluation point. It is understood that the is a small tradeoff of space because the line value have to be stored, but the computation of the line at the evaluation function is gained.\n",
        "  - Instead of using linspace or range for the input, I chose to take in just the edges in order to be valid for all real numbers. Linspace and range are discrete.\n",
        "\n",
        "## Optimization:\n",
        "  - Search function, for now binary search but also a set has been considered due to $O(1)$ complexity but not chosen because it can only be unordered and the lookup gains are mitingated with the current list structure. Also interpolation search could be optimal for a certain distribution of ranges due to $O(loglogn)$ but covering all cases binary search is better due to $O(nlogn)$.\n",
        "  - Computation load concentrated on constructor because of assumption of repeated use of evaluation function on each object.\n",
        "  - In future versions, base class for any piecewise function could be built, and then constant, linear etc versions derived.\n",
        "  - In both classes, in order to optimize the performance we could use numpy arrays instead of lists.\n",
        "  - If we refactor the code to use numpy arrays, then we could gain extra speedup using numba/jit."
      ]
    },
    {
      "cell_type": "markdown",
      "metadata": {
        "id": "yUWvTuOBHJW6"
      },
      "source": [
        "### Requirements\n",
        "```\n",
        "ipytest             0.13.0\n",
        "matplotlib          3.2.2\n",
        "numpy               1.21.6\n",
        "pandas              1.3.5\n",
        "pytest              7.2.0\n",
        "scipy               1.7.3\n",
        "session_info        1.0.0\n",
        "```"
      ]
    },
    {
      "cell_type": "markdown",
      "metadata": {
        "id": "Bn8QvnSTF46U"
      },
      "source": [
        "# Demo"
      ]
    },
    {
      "cell_type": "code",
      "execution_count": null,
      "metadata": {
        "id": "tOBKjiSiF6Xc",
        "colab": {
          "base_uri": "https://localhost:8080/",
          "height": 469
        },
        "outputId": "c42dcd52-d71c-409d-fc64-8c23ffc68423"
      },
      "outputs": [
        {
          "output_type": "stream",
          "name": "stdout",
          "text": [
            "f(2.5) = 3\n",
            "min = 1\n",
            "argmin = 0\n",
            "max = 5\n",
            "argmax = 4\n"
          ]
        },
        {
          "output_type": "display_data",
          "data": {
            "text/plain": [
              "<Figure size 720x432 with 1 Axes>"
            ],
            "image/png": "[encoded data removed]"
          },
          "metadata": {
            "needs_background": "light"
          }
        }
      ],
      "source": [
        "# CONSTANT:\n",
        "# we create the segments - this is for demonstration, there is also \n",
        "# a random segmment producer <rand_seg()>\n",
        "segments = [[0,1,1], [1,2,2], [2,3,3], [4,5,5]]\n",
        "# segments have the format [[fromA, toB, const],]\n",
        "# then we initialize the class <PCF> with the previously defined segments\n",
        "# and create the object <foo>\n",
        "foo = PCF(segments, verbose = False)\n",
        "# we can then call the evaluation function\n",
        "foo.evaluate(2.5, verbose = True)\n",
        "# and finally call <report()> on the object to visualize out results\n",
        "foo.report()"
      ]
    },
    {
      "cell_type": "code",
      "source": [
        "# LINEAR:\n",
        "# we create the segments - this is for demonstration, there is also \n",
        "# a random segmment producer <rand_seg()>\n",
        "segments = [[0,1,(0,1), (1,0)], [1,2,(1,2), (2,1)], [2,3,(2,3),(3,2)], [4,5, (3,4), (4,3)]]\n",
        "# segments have the format [[fromA, toB, (x1, y1), (x2, y2))],]\n",
        "# then we initialize the class <PLF> with the previously defined segments\n",
        "# and create the object <foo>\n",
        "foo = PLF(segments, verbose = False)\n",
        "# we can then call the evaluation function\n",
        "foo.evaluate(2.5, verbose = True)\n",
        "# and finally call <report()> on the object to visualize out results\n",
        "foo.report()"
      ],
      "metadata": {
        "colab": {
          "base_uri": "https://localhost:8080/",
          "height": 469
        },
        "id": "OIDhGYyh8_Ut",
        "outputId": "59514d5c-5ffb-466f-fcc7-c118cbcad206"
      },
      "execution_count": null,
      "outputs": [
        {
          "output_type": "stream",
          "name": "stdout",
          "text": [
            "f(2.5) = 2.5000000000000036\n",
            "min = -2.220446049250313e-16\n",
            "argmin = 1\n",
            "max = 3.9999999999999982\n",
            "argmax = 3\n"
          ]
        },
        {
          "output_type": "display_data",
          "data": {
            "text/plain": [
              "<Figure size 720x432 with 1 Axes>"
            ],
            "image/png": "[encoded data removed]"
          },
          "metadata": {
            "needs_background": "light"
          }
        }
      ]
    },
    {
      "cell_type": "markdown",
      "metadata": {
        "id": "dZ179NvkDviV"
      },
      "source": [
        "# Implementation"
      ]
    },
    {
      "cell_type": "code",
      "execution_count": null,
      "metadata": {
        "colab": {
          "base_uri": "https://localhost:8080/"
        },
        "id": "1ifY8uBmyURM",
        "outputId": "f5773f0e-aea5-4213-bde2-8856cecbf812"
      },
      "outputs": [
        {
          "output_type": "stream",
          "name": "stdout",
          "text": [
            "Looking in indexes: https://pypi.org/simple, https://us-python.pkg.dev/colab-wheels/public/simple/\n",
            "Requirement already satisfied: ipytest in /usr/local/lib/python3.7/dist-packages (0.13.0)\n",
            "Requirement already satisfied: packaging in /usr/local/lib/python3.7/dist-packages (from ipytest) (21.3)\n",
            "Requirement already satisfied: pytest>=5.4 in /usr/local/lib/python3.7/dist-packages (from ipytest) (7.2.0)\n",
            "Requirement already satisfied: ipython in /usr/local/lib/python3.7/dist-packages (from ipytest) (7.9.0)\n",
            "Requirement already satisfied: tomli>=1.0.0 in /usr/local/lib/python3.7/dist-packages (from pytest>=5.4->ipytest) (2.0.1)\n",
            "Requirement already satisfied: importlib-metadata>=0.12 in /usr/local/lib/python3.7/dist-packages (from pytest>=5.4->ipytest) (4.13.0)\n",
            "Requirement already satisfied: exceptiongroup>=1.0.0rc8 in /usr/local/lib/python3.7/dist-packages (from pytest>=5.4->ipytest) (1.0.4)\n",
            "Requirement already satisfied: iniconfig in /usr/local/lib/python3.7/dist-packages (from pytest>=5.4->ipytest) (1.1.1)\n",
            "Requirement already satisfied: pluggy<2.0,>=0.12 in /usr/local/lib/python3.7/dist-packages (from pytest>=5.4->ipytest) (1.0.0)\n",
            "Requirement already satisfied: attrs>=19.2.0 in /usr/local/lib/python3.7/dist-packages (from pytest>=5.4->ipytest) (22.1.0)\n",
            "Requirement already satisfied: zipp>=0.5 in /usr/local/lib/python3.7/dist-packages (from importlib-metadata>=0.12->pytest>=5.4->ipytest) (3.10.0)\n",
            "Requirement already satisfied: typing-extensions>=3.6.4 in /usr/local/lib/python3.7/dist-packages (from importlib-metadata>=0.12->pytest>=5.4->ipytest) (4.1.1)\n",
            "Requirement already satisfied: pexpect in /usr/local/lib/python3.7/dist-packages (from ipython->ipytest) (4.8.0)\n",
            "Requirement already satisfied: jedi>=0.10 in /usr/local/lib/python3.7/dist-packages (from ipython->ipytest) (0.18.2)\n",
            "Requirement already satisfied: traitlets>=4.2 in /usr/local/lib/python3.7/dist-packages (from ipython->ipytest) (5.1.1)\n",
            "Requirement already satisfied: pickleshare in /usr/local/lib/python3.7/dist-packages (from ipython->ipytest) (0.7.5)\n",
            "Requirement already satisfied: pygments in /usr/local/lib/python3.7/dist-packages (from ipython->ipytest) (2.6.1)\n",
            "Requirement already satisfied: backcall in /usr/local/lib/python3.7/dist-packages (from ipython->ipytest) (0.2.0)\n",
            "Requirement already satisfied: setuptools>=18.5 in /usr/local/lib/python3.7/dist-packages (from ipython->ipytest) (57.4.0)\n",
            "Requirement already satisfied: decorator in /usr/local/lib/python3.7/dist-packages (from ipython->ipytest) (4.4.2)\n",
            "Requirement already satisfied: prompt-toolkit<2.1.0,>=2.0.0 in /usr/local/lib/python3.7/dist-packages (from ipython->ipytest) (2.0.10)\n",
            "Requirement already satisfied: parso<0.9.0,>=0.8.0 in /usr/local/lib/python3.7/dist-packages (from jedi>=0.10->ipython->ipytest) (0.8.3)\n",
            "Requirement already satisfied: six>=1.9.0 in /usr/local/lib/python3.7/dist-packages (from prompt-toolkit<2.1.0,>=2.0.0->ipython->ipytest) (1.15.0)\n",
            "Requirement already satisfied: wcwidth in /usr/local/lib/python3.7/dist-packages (from prompt-toolkit<2.1.0,>=2.0.0->ipython->ipytest) (0.2.5)\n",
            "Requirement already satisfied: pyparsing!=3.0.5,>=2.0.2 in /usr/local/lib/python3.7/dist-packages (from packaging->ipytest) (3.0.9)\n",
            "Requirement already satisfied: ptyprocess>=0.5 in /usr/local/lib/python3.7/dist-packages (from pexpect->ipython->ipytest) (0.7.0)\n"
          ]
        }
      ],
      "source": [
        "import matplotlib.pyplot as plt\n",
        "import numpy as np\n",
        "from random import randint, uniform\n",
        "import time\n",
        "import copy\n",
        "import pandas as pd\n",
        "from sys import getsizeof\n",
        "from numpy import ones,vstack\n",
        "from numpy.linalg import lstsq\n",
        "from numba import njit\n",
        "from scipy.interpolate import make_interp_spline, BSpline\n",
        "!pip install ipytest # notebook version of pytest\n",
        "import ipytest\n",
        "import pytest\n",
        "\n",
        "ipytest.autoconfig()"
      ]
    },
    {
      "cell_type": "markdown",
      "metadata": {
        "id": "tKSvNEwD2jp3"
      },
      "source": [
        "## Helper functions"
      ]
    },
    {
      "cell_type": "code",
      "execution_count": null,
      "metadata": {
        "id": "Z5Zbfl2jp_kW"
      },
      "outputs": [],
      "source": [
        "def binary_search(arr, x: float) -> float:\n",
        "  \"\"\"\n",
        "  Iterative Binary Search, complexity O(nlogn)\n",
        "  reference: https://www.geeksforgeeks.org/python-program-for-binary-search/\n",
        "\n",
        "  Args:\n",
        "    arr (ist): the list over which to search\n",
        "    x (float): argument to search for in arr\n",
        "\n",
        "  Returns:\n",
        "    float: index of requested x\n",
        "  \"\"\"\n",
        "  low = 0\n",
        "  high = len(arr) - 1\n",
        "  mid = 0\n",
        "  while low <= high:\n",
        "    mid = (high + low) // 2\n",
        "    # If x is greater, ignore left half\n",
        "    if arr[mid][1] < x:\n",
        "      low = mid + 1\n",
        "      # If x is smaller, ignore right half\n",
        "    elif arr[mid][0] > x:\n",
        "      high = mid - 1\n",
        "    # means x is present at mid\n",
        "    else:\n",
        "      return mid\n",
        "    # If we reach here, then the element was not present\n",
        "  return -1\n",
        "\n",
        "def rand_seg(start: float, end: float, num: float, type = float, mode: str = 'constant') -> list:\n",
        "  \"\"\"\n",
        "  Returns example input for piecewise function in the format\n",
        "    [[start, end, constant],]\n",
        "\n",
        "  Args:\n",
        "    start (float): start of the range\n",
        "    end (float): end of the range\n",
        "    num (float): range size\n",
        "    type (=float): float type for output\n",
        "    mode (str) (='constant'): choose mode of operation, 'constant' for PCF, 'linear' for PLF\n",
        "\n",
        "  Returns:\n",
        "    list: list of lists containing the segments\n",
        "  \"\"\"\n",
        "  # choose appropriate calling function for random nums\n",
        "  if type == int:\n",
        "    func = randint\n",
        "  elif type == float:\n",
        "    func = uniform\n",
        "  else:\n",
        "    raise ValueError(\"Usage: value = int OR value = float.\")\n",
        "  segments = []\n",
        "  j = 0\n",
        "  for i in range(num):\n",
        "    a = j + func(start, end)\n",
        "    b = a + func(start, end)\n",
        "    j = b\n",
        "    if mode == 'constant':\n",
        "      segments.append([a, b, func(start, end)])\n",
        "    elif mode == 'linear':\n",
        "      segments.append([a, b, (func(a, b), func(start, end)), (func(a, b), func(start, end))])\n",
        "    else:\n",
        "      raise ValueError(\"Usage: mode = 'constant' OR mode = 'linear'\")\n",
        "  return segments"
      ]
    },
    {
      "cell_type": "markdown",
      "metadata": {
        "id": "BB6a7nVDU9_d"
      },
      "source": [
        "## Error handling"
      ]
    },
    {
      "cell_type": "code",
      "execution_count": null,
      "metadata": {
        "id": "h34XTWGTU_1z"
      },
      "outputs": [],
      "source": [
        "class RangeNotSorted(Exception):\n",
        "    \"\"\"Exception raised for errors in the range.\n",
        "\n",
        "    Attributes:\n",
        "\n",
        "    \"\"\"\n",
        "\n",
        "    def __init__(self, range, message=\"\"):\n",
        "        self.range = range\n",
        "        self.message = message\n",
        "        super().__init__(self.message)\n",
        "\n",
        "    def __str__(self):\n",
        "        return f'{self.range} -> {self.message}'\n",
        "\n",
        "class RangeIntersection(Exception):\n",
        "    \"\"\"Exception raised for errors in the range.\n",
        "\n",
        "    Attributes:\n",
        "\n",
        "    \"\"\"\n",
        "\n",
        "    def __init__(self, range, message=\"\"):\n",
        "        self.range = range\n",
        "        self.message = message\n",
        "        super().__init__(self.message)\n",
        "\n",
        "    def __str__(self):\n",
        "        return f'{self.range} -> {self.message}'\n",
        "\n",
        "class ValueNotInRange(Exception):\n",
        "    \"\"\"Exception raised for errors in the range.\n",
        "\n",
        "    Attributes:\n",
        "\n",
        "    \"\"\"\n",
        "\n",
        "    def __init__(self, range, message=\"\"):\n",
        "        self.range = range\n",
        "        self.message = message\n",
        "        super().__init__(self.message)\n",
        "\n",
        "    def __str__(self):\n",
        "        return f'{self.range} -> {self.message}'"
      ]
    },
    {
      "cell_type": "markdown",
      "metadata": {
        "id": "WiQg1yVKHL5C"
      },
      "source": [
        "## PCF"
      ]
    },
    {
      "cell_type": "code",
      "execution_count": null,
      "metadata": {
        "id": "uNBC6VWexR0U"
      },
      "outputs": [],
      "source": [
        "class PCF:\n",
        "  \"\"\"\n",
        "  Piecewise constant function class.\n",
        "\n",
        "  Args:\n",
        "    segments (list): List of lists with each item being the range \n",
        "      and constant value of each function. Syntax: [[start, end, constant],].\n",
        "    verbose (=True): (bool) (optional) Include or not printouts.\n",
        "\n",
        "  Attributes:\n",
        "    __segs (list): list with [[start, end, constant],] format containing the function pieces\n",
        "    my_min (float): global min\n",
        "    my_argmin (float): global armin\n",
        "    my_max (float): global max\n",
        "    my_argmax (float): global argmax\n",
        "  \n",
        "  Functions:\n",
        "    __init__(list, bool): Constructor.\n",
        "    __preprocessing(): Function to be called in the constructor to make the input ready\n",
        "      for later proessing, by checking for misaligned ranges, intersections,\n",
        "      and finding min/argmin, max/argmax.\n",
        "    __fill(): Fills in any gaps that are found between given ranges\n",
        "      starting from -inf and ending at inf. In the \"fake\" ranges\n",
        "      created, y is defined as NaN.\n",
        "    evaluate(): Evaluates a number x, by searching for which piece of the piecewise\n",
        "      function it belongs to, and returning the appropriate y.\n",
        "    get_mins(): Returns global min of piecewise function.\n",
        "    get_maxs(): Returns global max of piecewise function.\n",
        "    plot(): Plots the pieces of the piecewise function.\n",
        "    report(): Prints out the min/argmin and max/argmax and calls plot().\n",
        "  \"\"\"\n",
        "  \n",
        "  def __init__(self, segments: list, verbose: bool = True) -> None:\n",
        "    # check if input is empty\n",
        "    if not segments:\n",
        "      raise ValueError(\"Segments is empty.\")\n",
        "    if not isinstance(segments, list):\n",
        "        raise ValueError(\"Segments is not the correct type. Accepted: list\")\n",
        "    if not isinstance(segments[0][0], (int, float)):\n",
        "        raise ValueError(\"Segments[o] is not the correct type. Accepted: int/float.\")\n",
        "    if len(segments[0]) > 3:\n",
        "      raise ValueError(f\"Segments is not configured corrently. Expected len(segments[0]) = 3 but got len(segments[0]) = {len(segments[0])}\")\n",
        "    # sort based on range start (x)\n",
        "    self.__segs = sorted(segments, key = lambda x: min(x[0], x[1]))\n",
        "    self.my_min, self.my_argmin, self.my_max, self.my_argmax = self.__preprocessing()\n",
        "    self.__fill()\n",
        "    if verbose == True:\n",
        "      print(f'before {segments}')\n",
        "      print(f'after {self.__segs}')\n",
        "\n",
        "  def __preprocessing(self, check_swap = False) -> tuple:\n",
        "    \"\"\"\n",
        "    Function to be called in the constructor to make the input ready\n",
        "      for later proessing, by checking for misaligned ranges, intersections,\n",
        "      and finding min/argmin, max/argmax. O(n) complexity.\n",
        "\n",
        "    Attributes:\n",
        "      check_swap (bool) (=False): checks and swaps if any ranges are in \n",
        "        incorrect order i.e. [2, 1]\n",
        "\n",
        "    Returns:\n",
        "      tuple: min, argmin, max, argmax\n",
        "    \"\"\"\n",
        "    temp_min = self.__segs[0][2]\n",
        "    temp_argmin = self.__segs[0][0]\n",
        "    temp_max = self.__segs[0][2]\n",
        "    temp_argmax = self.__segs[0][0]\n",
        "    for i in range(len(self.__segs)):\n",
        "      if check_swap == True:\n",
        "      # check for ranges that need swapping\n",
        "        if self.__segs[i][1] < self.__segs[i][0]:\n",
        "          print(f\"swapping {self.__segs[i][1]}, {self.__segs[i][0]}\")\n",
        "          temp = self.__segs[i][1]\n",
        "          self.__segs[i][1] = self.__segs[i][0]\n",
        "          self.__segs[i][0] = temp\n",
        "      # now that they are aligned, check for intersection\n",
        "      if i < len(self.__segs) - 1:\n",
        "        if self.__segs[i][1] > self.__segs[i + 1][0]:\n",
        "          raise RangeIntersection(f\"\"\"Range overlap between segments\n",
        "            [{self.__segs[i][0], self.__segs[i][1]}] and \n",
        "            [{self.__segs[i + 1][0], self.__segs[i + 1][1]}].\"\"\")\n",
        "      # find min/argmin\n",
        "      if self.__segs[i][2] < temp_min:\n",
        "        temp_min = self.__segs[i][2]\n",
        "        temp_argmin = self.__segs[i][0]\n",
        "      # find max/argmax\n",
        "      if self.__segs[i][2] > temp_max:\n",
        "        temp_max = self.__segs[i][2]\n",
        "        temp_argmax = self.__segs[i][0]\n",
        "      i += 1\n",
        "    return temp_min, temp_argmin, temp_max, temp_argmax\n",
        "\n",
        "  def __fill(self) -> None:\n",
        "    \"\"\"\n",
        "    Fills in any gaps that are found between given ranges\n",
        "      starting from -inf and ending at inf. In the \"fake\" ranges\n",
        "      created, y is defined as NaN.\n",
        "\n",
        "    Returns:\n",
        "      None\n",
        "    \"\"\"\n",
        "    # fill in gaps\n",
        "    # if +/- inf does not already exist, add it to start/end of segments\n",
        "    if self.__segs[0][0] != -np.inf:\n",
        "      self.__segs.insert(0, [-np.inf, self.__segs[0][0], np.nan])\n",
        "    if self.__segs[-1][1] != np.inf:\n",
        "      self.__segs.append([self.__segs[-1][1], np.inf, np.nan])\n",
        "    # for all segments check if end of segment matches the beginning of the next\n",
        "    # if not func is non-continuous so insert a fake segment with NaN y\n",
        "    for i in range(len(self.__segs) - 1):\n",
        "      if self.__segs[i][1] != self.__segs[i + 1][0]:\n",
        "        self.__segs.insert(i + 1, [self.__segs[i][1], self.__segs[i + 1][0], np.nan])\n",
        "\n",
        "  def evaluate(self, x: float, verbose: bool = True) -> float:\n",
        "    \"\"\"\n",
        "    Evaluates a number x, by searching for which piece of the piecewise\n",
        "      function it belongs to, and returning the appropriate y. O(nlogn) complexity.\n",
        "\n",
        "    Args:\n",
        "      x (float): number to evaluate\n",
        "      verbose (bool) (=True): printout preference\n",
        "\n",
        "    Returns:\n",
        "      None\n",
        "    \"\"\"\n",
        "    # do it in C?\n",
        "    # I assume inclusive (closed) brackets\n",
        "    #ans = self.__segs[binary_search(np.array(self.__segs), x)][2] # O(nlogn), interpolation search better?\n",
        "    ans = self.__segs[binary_search(self.__segs, x)][2] # O(nlogn), interpolation search better?\n",
        "    if ans == np.nan:\n",
        "      raise ValueNotInRange(f\"{x} not found in given ranges.\")\n",
        "    if verbose == True:\n",
        "      print(f'f({x}) = {ans}')\n",
        "    return ans\n",
        "\n",
        "  def get_mins(self) -> tuple:\n",
        "    \"\"\"\n",
        "    Returns global min of piecewise function.\n",
        "\n",
        "    Returns:\n",
        "      tuple: global min/argmin\n",
        "    \"\"\"\n",
        "    return self.my_min, self.my_argmin\n",
        "\n",
        "  def get_maxs(self) -> tuple:\n",
        "    \"\"\"\n",
        "    Returns global max of piecewise function.\n",
        "\n",
        "    Returns:\n",
        "      tuple: global max/argmax\n",
        "    \"\"\"\n",
        "    return self.my_max, self.my_argmax\n",
        "  \n",
        "  def plot(self, limit=1000) -> None:\n",
        "    \"\"\"\n",
        "    Plots the pieces of the piecewise function.\n",
        "\n",
        "    Args:\n",
        "      limit (int): limit on how many pieces to plot\n",
        "\n",
        "    Returns:\n",
        "      None\n",
        "    \"\"\"\n",
        "    i = 0\n",
        "    my_min, my_argmin = self.get_mins()\n",
        "    my_max, my_argmax = self.get_maxs()\n",
        "    fig, ax = plt.subplots(1, 1, figsize=(10, 6))\n",
        "    for start, end, y in segments:\n",
        "      x = np.linspace(start, end, 10)\n",
        "      plt.plot(x, np.full(x.shape, y), color='r')\n",
        "      if i > limit:\n",
        "        break\n",
        "    xt = ax.get_xticks() \n",
        "    xt = np.append(xt, my_argmin)\n",
        "    xtl = xt.tolist()\n",
        "    xtl[-1] = \"argmin\"\n",
        "    ax.set_xticks(xt)\n",
        "    ax.set_xticklabels(xtl)\n",
        "\n",
        "    yt = ax.get_yticks() \n",
        "    yt = np.append(yt, my_min)\n",
        "    ytl = yt.tolist()\n",
        "    ytl[-1] = \"min\"\n",
        "    ax.set_yticks(yt)\n",
        "    ax.set_yticklabels(ytl)\n",
        "      \n",
        "  def report(self) -> None:\n",
        "    \"\"\"\n",
        "    Prints out the min/argmin and max/argmax and calls plot().\n",
        "\n",
        "    Returns:\n",
        "      None\n",
        "    \"\"\"\n",
        "    my_min, my_argmin = self.get_mins()\n",
        "    my_max, my_argmax = self.get_maxs()\n",
        "    print(f\"min = {my_min}\\nargmin = {my_argmin}\\nmax = {my_max}\\nargmax = {my_argmax}\")\n",
        "    self.plot()\n",
        "    return"
      ]
    },
    {
      "cell_type": "code",
      "execution_count": null,
      "metadata": {
        "colab": {
          "base_uri": "https://localhost:8080/",
          "height": 469
        },
        "id": "nk5f8NjP0Kd0",
        "outputId": "14f82ccf-a8f4-4076-a9ff-d098879fc8c0"
      },
      "outputs": [
        {
          "output_type": "stream",
          "name": "stdout",
          "text": [
            "f(2.5) = 3\n",
            "min = 1\n",
            "argmin = 0\n",
            "max = 5\n",
            "argmax = 4\n"
          ]
        },
        {
          "output_type": "display_data",
          "data": {
            "text/plain": [
              "<Figure size 720x432 with 1 Axes>"
            ],
            "image/png": "[encoded data removed]"
          },
          "metadata": {
            "needs_background": "light"
          }
        }
      ],
      "source": [
        "#segments = rand_seg(0, 100, 10, float)\n",
        "segments = [[0,1,1], [1,2,2], [2,3,3], [4,5,5]]\n",
        "foo = PCF(segments, verbose = False)\n",
        "foo.evaluate(2.5, verbose = True)\n",
        "foo.report()"
      ]
    },
    {
      "cell_type": "markdown",
      "metadata": {
        "id": "2nu5nSsAHdsF"
      },
      "source": [
        "## PLF"
      ]
    },
    {
      "cell_type": "code",
      "execution_count": null,
      "metadata": {
        "id": "SFTSiYcTNKAY"
      },
      "outputs": [],
      "source": [
        "class PLF:\n",
        "  \"\"\"\n",
        "  Piecewise linear function class.\n",
        "\n",
        "  Args:\n",
        "    segments (list): List of lists with each item being the range \n",
        "      and constant value of each function. Syntax: [[start, end, (x_1, y_1), (x_2, y_2)],]\n",
        "      but syntax is extened after preprocessing to [[start, end, (x_1new, y_1new), (x_2new, y_2new)] a, b,]\n",
        "      with x_{}new being the edges of the line calculated with the line equation\n",
        "      and a, b froom y = ax + b.\n",
        "    verbose (=True): (bool) (optional) Include or not printouts.\n",
        "\n",
        "  Attributes:\n",
        "    __segs (list): list with [[start, end, constant],] format containing the function pieces\n",
        "    my_min (float): global min\n",
        "    my_argmin (float): global armin\n",
        "    my_max (float): global max\n",
        "    my_argmax (float): global argmax\n",
        "  \n",
        "  Functions:\n",
        "    __init__(list, bool): Constructor.\n",
        "    __preprocessing(): Function to be called in the constructor to make the input ready\n",
        "      for later proessing, by checking for misaligned ranges, intersections,\n",
        "      and finding min/argmin, max/argmax.\n",
        "    __fill(): Fills in any gaps that are found between given ranges\n",
        "      starting from -inf and ending at inf. In the \"fake\" ranges\n",
        "      created, y is defined as NaN.\n",
        "    evaluate(): Evaluates a number x, by searching for which piece of the piecewise\n",
        "      function it belongs to, and returning the appropriate y.\n",
        "    get_mins(): Returns global min of piecewise function.\n",
        "    get_maxs(): Returns global max of piecewise function.\n",
        "    plot(): Plots the pieces of the piecewise function.\n",
        "    report(): Prints out the min/argmin and max/argmax and calls plot().\n",
        "  \"\"\"\n",
        "\n",
        "  def __init__(self, segments: list, verbose: bool = True) -> None:\n",
        "    # check if input is empty\n",
        "    if not segments:\n",
        "      raise ValueError(\"Segments is empty\")\n",
        "    if not isinstance(segments, list):\n",
        "        raise ValueError(\"Segments is not the correct type. Accepted: list\")\n",
        "    if not isinstance(segments[0][0], (int, float)):\n",
        "        raise ValueError(\"Segments[o] is not the correct type. Accepted: int/float.\")\n",
        "    if len(segments[0]) >= 6:\n",
        "      raise ValueError(f\"Segments is not configured corrently. Expected len(segments[0]) = 4 but got len(segments[0]) = {len(segments[0])}\")\n",
        "    # sort based on range start\n",
        "    # copy segments to a private variable\n",
        "    self.__segs = copy.deepcopy(sorted(segments, key = lambda x: min(x[0], x[1])))\n",
        "    self.my_min, self.my_argmin, self.my_max, self.my_argmax = self.__preprocessing()\n",
        "    self.__fill()\n",
        "    if verbose == True:\n",
        "      print(f'before {segments}')\n",
        "      print(f'after {self.__segs}')\n",
        "\n",
        "  def __preprocessing(self, check_swap = False) -> tuple:\n",
        "    \"\"\"\n",
        "    Function to be called in the constructor to make the input ready\n",
        "      for later proessing, by checking for misaligned ranges, intersections,\n",
        "      and finding min/argmin, max/argmax. O(n) complexity.\n",
        "\n",
        "    Attributes:\n",
        "      check_swap (bool) (=False): checks and swaps if any ranges are in \n",
        "        incorrect order i.e. [2, 1]\n",
        "\n",
        "    Returns:\n",
        "      tuple: min, argmin, max, argmax\n",
        "    \"\"\"\n",
        "    temp_min = self.__segs[0][2][1]\n",
        "    temp_argmin = self.__segs[0][2][0]\n",
        "    temp_max = self.__segs[0][2][1]\n",
        "    temp_argmax = self.__segs[0][2][0]\n",
        "    for i in range(len(self.__segs)):\n",
        "      if check_swap == True:\n",
        "      # check for ranges that need swapping\n",
        "        if self.__segs[i][1] < self.__segs[i][0]:\n",
        "          print(f\"swapping {self.__segs[i][1]}, {self.__segs[i][0]}\")\n",
        "          temp = self.__segs[i][1]\n",
        "          self.__segs[i][1] = self.__segs[i][0]\n",
        "          self.__segs[i][0] = temp\n",
        "      # now that they are aligned, check for intersection\n",
        "      if i < len(self.__segs) - 1:\n",
        "        if self.__segs[i][1] > self.__segs[i + 1][0]:\n",
        "          raise RangeIntersection(f\"\"\"Range overlap between segments\n",
        "            [{self.__segs[i][0], self.__segs[i][1]}] and \n",
        "            [{self.__segs[i + 1][0], self.__segs[i + 1][1]}].\"\"\")\n",
        "      # find linear equation\n",
        "      p1, p2 = self.__segs[i][2:4]\n",
        "      points = [p1, p2]\n",
        "      # find y = ax + b\n",
        "      x_coords, y_coords = zip(*points)\n",
        "      A = vstack([x_coords,ones(len(x_coords))]).T\n",
        "      a, b = lstsq(A, y_coords, rcond=None)[0]\n",
        "      self.__segs[i].append(a)\n",
        "      self.__segs[i].append(b)\n",
        "      # replace points with true edges based on range and equation\n",
        "      self.__segs[i][2] = (self.__segs[i][2][0], a * self.__segs[i][2][0] + b)\n",
        "      self.__segs[i][3] = (self.__segs[i][3][0], a * self.__segs[i][3][0] + b)\n",
        "      # find min/argmin\n",
        "      _, right = zip(*self.__segs[i][2:4]) # get ys together\n",
        "      index, local_min = right.index(min(right)), min(right) # find min y and its index\n",
        "      index += 2 # translate index to segment index\n",
        "      local_argmin = self.__segs[i][index][0] # get corresponding x\n",
        "      if local_min < temp_min:\n",
        "        temp_argmin = local_argmin\n",
        "        temp_min = local_min\n",
        "      # find max/argmax\n",
        "      _, right = zip(*self.__segs[i][2:4]) # get ys together\n",
        "      index, local_max = right.index(max(right)), max(right) # find max y and its index\n",
        "      index += 2 # translate index to segment index\n",
        "      local_argmax = self.__segs[i][index][0] # get corresponding x\n",
        "      if local_max > temp_max:\n",
        "        temp_argmax = local_argmax\n",
        "        temp_max = local_max\n",
        "      i += 1\n",
        "    return temp_min, temp_argmin, temp_max, temp_argmax\n",
        "\n",
        "  def __fill(self) -> None:\n",
        "    \"\"\"\n",
        "    Fills in any gaps that are found between given ranges\n",
        "      starting from -inf and ending at inf. In the \"fake\" ranges\n",
        "      created, y is defined as NaN.\n",
        "\n",
        "    Returns:\n",
        "      None\n",
        "    \"\"\"\n",
        "    # fill in gaps\n",
        "    # if +/- inf does not already exist, add it to start/end of segments\n",
        "    if self.__segs[0][0] != -np.inf:\n",
        "      self.__segs.insert(0, [-np.inf, self.__segs[0][0], (np.nan, np.nan), (np.nan, np.nan)])\n",
        "    if self.__segs[-1][1] != np.inf:\n",
        "      self.__segs.append([self.__segs[-1][1], np.inf, np.nan, np.nan])\n",
        "    # for all segments check if end of segment matches the beginning of the next\n",
        "    # if not func is non-continuous so insert a fake segment with NaN y\n",
        "    for i in range(len(self.__segs) - 1):\n",
        "      if self.__segs[i][1] != self.__segs[i + 1][0]:\n",
        "        self.__segs.insert(i + 1, [self.__segs[i][1], self.__segs[i + 1][0], (np.nan, np.nan), (np.nan, np.nan)])\n",
        "\n",
        "  def evaluate(self, x: float, verbose: bool = True) -> float:\n",
        "    \"\"\"\n",
        "    Evaluates a number x, by searching for which piece of the piecewise\n",
        "      function it belongs to, and returning the appropriate y. O(nlogn) complexity.\n",
        "\n",
        "    Args:\n",
        "      x (float): number to evaluate\n",
        "      verbose (bool) (=True): printout preference\n",
        "\n",
        "    Returns:\n",
        "      None\n",
        "    \"\"\"\n",
        "    # do it in C?\n",
        "    # I assume inclusive (closed) brackets\n",
        "    # O(nlogn), interpolation search better?\n",
        "    a, b = self.__segs[binary_search(self.__segs, x)][-2:]\n",
        "    #if np.isnan(a):\n",
        "    if np.isnan(a).any():\n",
        "      raise ValueNotInRange(f\"{x} not found in given ranges.\")\n",
        "      #return np.nan\n",
        "    ans = a * x + b\n",
        "    if verbose == True:\n",
        "      print(f'f({x}) = {ans}')\n",
        "    return ans\n",
        "\n",
        "  def get_mins(self) -> tuple:\n",
        "    \"\"\"\n",
        "    Returns global min of piecewise function.\n",
        "\n",
        "    Returns:\n",
        "      tuple: global min/argmin\n",
        "    \"\"\"\n",
        "    return self.my_min, self.my_argmin\n",
        "\n",
        "  def get_maxs(self) -> tuple:\n",
        "    \"\"\"\n",
        "    Returns global max of piecewise function.\n",
        "\n",
        "    Returns:\n",
        "      tuple: global max/argmax\n",
        "    \"\"\"\n",
        "    return self.my_max, self.my_argmax\n",
        "\n",
        "  def plot(self, limit=100) -> None:\n",
        "    \"\"\"\n",
        "    Plots the pieces of the piecewise function.\n",
        "\n",
        "    Args:\n",
        "      limit (int): limit on how many pieces to plot\n",
        "\n",
        "    Returns:\n",
        "      None\n",
        "    \"\"\"\n",
        "    for item in self.__segs: # remove NaNs\n",
        "      if len(item) == 4:\n",
        "        self.__segs.remove(item)\n",
        "    my_min, my_argmin = self.get_mins()\n",
        "    my_max, my_argmax = self.get_maxs()\n",
        "    fig, ax = plt.subplots(1, 1, figsize=(10, 6))\n",
        "    i = 0\n",
        "    for start, end, p1, p2, _, _ in self.__segs:\n",
        "      plt.plot([p1[0], p2[0]], [p1[1], p2[1]], 'ro-')\n",
        "      if i > limit:\n",
        "        break\n",
        "    xt = ax.get_xticks() \n",
        "    xt = np.append(xt, my_argmin)\n",
        "    xtl = xt.tolist()\n",
        "    xtl[-1] = \"argmin\"\n",
        "    ax.set_xticks(xt)\n",
        "    ax.set_xticklabels(xtl)\n",
        "\n",
        "    yt = ax.get_yticks() \n",
        "    yt = np.append(yt, my_min)\n",
        "    ytl = yt.tolist()\n",
        "    ytl[-1] = \"min\"\n",
        "    ax.set_yticks(yt)\n",
        "    ax.set_yticklabels(ytl)\n",
        "\n",
        "  def report(self) -> None:\n",
        "    \"\"\"\n",
        "    Prints out the min/argmin and max/argmax and calls plot().\n",
        "\n",
        "    Returns:\n",
        "      None\n",
        "    \"\"\"\n",
        "    my_min, my_argmin = self.get_mins()\n",
        "    my_max, my_argmax = self.get_maxs()\n",
        "    print(f\"min = {my_min}\\nargmin = {my_argmin}\\nmax = {my_max}\\nargmax = {my_argmax}\")\n",
        "    self.plot()\n",
        "    return"
      ]
    },
    {
      "cell_type": "code",
      "execution_count": null,
      "metadata": {
        "id": "R-dh4vkcWdoq",
        "colab": {
          "base_uri": "https://localhost:8080/",
          "height": 469
        },
        "outputId": "a7366a55-d6f2-401a-de3f-ef1704b5375e"
      },
      "outputs": [
        {
          "output_type": "stream",
          "name": "stdout",
          "text": [
            "f(1.5) = 1.5000000000000016\n",
            "min = -2.220446049250313e-16\n",
            "argmin = 1\n",
            "max = 3.9999999999999982\n",
            "argmax = 3\n"
          ]
        },
        {
          "output_type": "display_data",
          "data": {
            "text/plain": [
              "<Figure size 720x432 with 1 Axes>"
            ],
            "image/png": "[encoded data removed]"
          },
          "metadata": {
            "needs_background": "light"
          }
        }
      ],
      "source": [
        "#segments = rand_seg(0, 100, 10, int, 'linear')\n",
        "segments = [[0,1,(0,1), (1,0)], [1,2,(1,2), (2,1)], [2,3,(2,3),(3,2)], [4,5, (3,4), (4,3)]]\n",
        "foo = PLF(segments, verbose = False)\n",
        "foo.evaluate(1.5, verbose = True)\n",
        "foo.report()"
      ]
    },
    {
      "cell_type": "markdown",
      "metadata": {
        "id": "_koUc8bDQQNa"
      },
      "source": [
        "## Scaling Study"
      ]
    },
    {
      "cell_type": "code",
      "execution_count": null,
      "metadata": {
        "colab": {
          "base_uri": "https://localhost:8080/"
        },
        "id": "1dWq5TKaTbhx",
        "outputId": "e596f9bc-e87e-4ef4-cd48-0c00ce3998e7"
      },
      "outputs": [
        {
          "output_type": "stream",
          "name": "stdout",
          "text": [
            "128 µs ± 4.66 µs per loop (mean ± std. dev. of 7 runs, 10000 loops each)\n"
          ]
        }
      ],
      "source": [
        "# PCF obj creation\n",
        "segments = rand_seg(0, 100, 100, float, 'constant')\n",
        "%timeit -n 10000 foo = PCF(segments,  verbose=False)"
      ]
    },
    {
      "cell_type": "code",
      "source": [
        "# PCF obj evaluation\n",
        "%%timeit -n 10000\n",
        "try:\n",
        "  foo.evaluate(randint(0, 100), verbose=False)\n",
        "except ValueNotInRange:\n",
        "  pass"
      ],
      "metadata": {
        "colab": {
          "base_uri": "https://localhost:8080/"
        },
        "id": "oi9zwQ0NJDtA",
        "outputId": "325d56ec-1df1-433f-a9ca-28c8e85a7c5a"
      },
      "execution_count": null,
      "outputs": [
        {
          "output_type": "stream",
          "name": "stdout",
          "text": [
            "8.92 µs ± 610 ns per loop (mean ± std. dev. of 7 runs, 10000 loops each)\n"
          ]
        }
      ]
    },
    {
      "cell_type": "code",
      "execution_count": null,
      "metadata": {
        "colab": {
          "base_uri": "https://localhost:8080/"
        },
        "id": "yv1cdlRVqNxF",
        "outputId": "2edffa38-0048-4af6-8d24-6aad77af6e29"
      },
      "outputs": [
        {
          "output_type": "stream",
          "name": "stdout",
          "text": [
            "8.27 ms ± 395 µs per loop (mean ± std. dev. of 7 runs, 1000 loops each)\n"
          ]
        }
      ],
      "source": [
        "# PLF obj creation\n",
        "segments = rand_seg(0, 100, 100, float, 'linear')\n",
        "%timeit -n 1000 foo = PLF(segments,  verbose=False)"
      ]
    },
    {
      "cell_type": "code",
      "source": [
        "# PLF obj evaluation\n",
        "%%timeit -n 1000\n",
        "try:\n",
        "  foo.evaluate(randint(0, 100), verbose=False)\n",
        "except ValueNotInRange:\n",
        "  pass"
      ],
      "metadata": {
        "colab": {
          "base_uri": "https://localhost:8080/"
        },
        "id": "IwwdeVCTJTN3",
        "outputId": "97ef8197-488a-4749-fd61-3e2faa9832cf"
      },
      "execution_count": null,
      "outputs": [
        {
          "output_type": "stream",
          "name": "stdout",
          "text": [
            "10.4 µs ± 1.84 µs per loop (mean ± std. dev. of 7 runs, 1000 loops each)\n"
          ]
        }
      ]
    },
    {
      "cell_type": "code",
      "execution_count": null,
      "metadata": {
        "colab": {
          "base_uri": "https://localhost:8080/",
          "height": 422
        },
        "id": "zXF9Z7PnQSIw",
        "outputId": "7b20e07c-c91d-4634-f100-c347e3406c07"
      },
      "outputs": [
        {
          "output_type": "execute_result",
          "data": {
            "text/plain": [
              "Text(0.5, 1.0, 'PCF - obj evaluation')"
            ]
          },
          "metadata": {},
          "execution_count": 15
        },
        {
          "output_type": "display_data",
          "data": {
            "text/plain": [
              "<Figure size 1152x432 with 2 Axes>"
            ],
            "image/png": "[encoded data removed]"
          },
          "metadata": {
            "needs_background": "light"
          }
        }
      ],
      "source": [
        "# PCF\n",
        "size = []\n",
        "tt = []\n",
        "disk = []\n",
        "\n",
        "segments = []\n",
        "a = 10\n",
        "for i in range(100000):\n",
        "  segments.append([a, a + 10, i])\n",
        "  a += 20\n",
        "\n",
        "for i in range(10000, 110000, 10000):\n",
        "  #segments = rand_seg(0, 100, i, float)\n",
        "  temp_seg = segments[:i]\n",
        "  disk.append(getsizeof(temp_seg))\n",
        "  size.append(i)\n",
        "  start_time = time.time()\n",
        "  foo = PCF(temp_seg, verbose=False)\n",
        "  dur = time.time() - start_time\n",
        "  tt.append(dur)\n",
        "  del foo\n",
        "dfcon = pd.DataFrame(columns = ['size', 'disk', 'time'])\n",
        "dfcon.size = size\n",
        "dfcon.time = tt\n",
        "dfcon.disk = disk\n",
        "\n",
        "size = []\n",
        "tt = []\n",
        "disk = []\n",
        "for i in range(10000, 100000, 10000):\n",
        "  #segments = rand_seg(0, 100, i, float)\n",
        "  temp_seg = segments[:i]\n",
        "  disk.append(getsizeof(temp_seg))\n",
        "  size.append(i)\n",
        "  foo = PCF(temp_seg, verbose=False)\n",
        "  start_time = time.time()\n",
        "  foo.evaluate(i, verbose = False)\n",
        "  dur = time.time() - start_time\n",
        "  tt.append(dur)\n",
        "dfeval = pd.DataFrame(columns = ['size', 'disk', 'time'])\n",
        "dfeval.size = size\n",
        "dfeval.time = tt\n",
        "dfeval.disk = disk\n",
        "\n",
        "\n",
        "fig = plt.figure(figsize=(16,6))\n",
        "ax = fig.add_subplot(121) \n",
        "\n",
        "xnew = np.linspace(dfcon['size'].min(), dfcon['size'].max(), 300)\n",
        "spl = make_interp_spline(dfcon['size'], dfcon.time, k=3)\n",
        "power_smooth = spl(xnew)\n",
        "\n",
        "plt.plot(xnew, power_smooth)\n",
        "plt.xlabel(\"Number of pieces\")\n",
        "plt.ylabel(\"Time (s)\")\n",
        "plt.title(\"PCF - obj construction\")\n",
        "\n",
        "ax = fig.add_subplot(122)\n",
        "#ax.set_yscale('log')\n",
        "xnew = np.linspace(dfeval['size'].min(), dfeval['size'].max(), 300)\n",
        "spl = make_interp_spline(dfeval['size'], dfeval.time, k=3)\n",
        "power_smooth = spl(xnew)\n",
        "\n",
        "plt.plot(xnew, power_smooth)\n",
        "plt.xlabel(\"Number of pieces\")\n",
        "plt.ylabel(\"Time (s)\")\n",
        "plt.title(\"PCF - obj evaluation\")"
      ]
    },
    {
      "cell_type": "code",
      "execution_count": null,
      "metadata": {
        "colab": {
          "base_uri": "https://localhost:8080/",
          "height": 422
        },
        "id": "MYKt2PwzVPJ6",
        "outputId": "be40d4a2-c406-4978-f0d1-c0fb9ee0af44"
      },
      "outputs": [
        {
          "output_type": "execute_result",
          "data": {
            "text/plain": [
              "Text(0.5, 1.0, 'PLF - obj evaluation')"
            ]
          },
          "metadata": {},
          "execution_count": 16
        },
        {
          "output_type": "display_data",
          "data": {
            "text/plain": [
              "<Figure size 1152x432 with 2 Axes>"
            ],
            "image/png": "[encoded data removed]"
          },
          "metadata": {
            "needs_background": "light"
          }
        }
      ],
      "source": [
        "# PLF\n",
        "size = []\n",
        "tt = []\n",
        "disk = []\n",
        "\n",
        "segments = []\n",
        "a = 10\n",
        "for i in range(100000):\n",
        "  segments.append([a, a + 10, (i, i + 1), (i + 1, i)])\n",
        "  a += 20\n",
        "\n",
        "for i in range(10000, 100000, 10000):\n",
        "  #segments = rand_seg(0, 100, i, float, 'linear')\n",
        "  temp_seg = segments[:i]\n",
        "  disk.append(getsizeof(temp_seg))\n",
        "  size.append(i)\n",
        "  start_time = time.time()\n",
        "  foo = PLF(temp_seg, verbose=False)\n",
        "  dur = time.time() - start_time\n",
        "  tt.append(dur)\n",
        "  del foo\n",
        "dfcon = pd.DataFrame(columns = ['size', 'disk', 'time'])\n",
        "dfcon.size = size\n",
        "dfcon.time = tt\n",
        "dfcon.disk = disk\n",
        "\n",
        "size = []\n",
        "tt = []\n",
        "disk = []\n",
        "for i in range(10000, 100000, 10000):\n",
        "  #segments = rand_seg(0, 100, i, float, 'linear')\n",
        "  temp_seg = segments[:i]\n",
        "  disk.append(getsizeof(temp_seg))\n",
        "  size.append(i)\n",
        "  foo = PLF(temp_seg, verbose=False)\n",
        "  start_time = time.time()\n",
        "  try:\n",
        "    foo.evaluate(i, verbose = False)\n",
        "  except ValueNotInRange:\n",
        "    pass\n",
        "  dur = time.time() - start_time\n",
        "  tt.append(dur)\n",
        "dfeval = pd.DataFrame(columns = ['size', 'disk', 'time'])\n",
        "dfeval.size = size\n",
        "dfeval.time = tt\n",
        "dfeval.disk = disk\n",
        "\n",
        "fig = plt.figure(figsize=(16,6))\n",
        "ax = fig.add_subplot(121) \n",
        "\n",
        "xnew = np.linspace(dfcon['size'].min(), dfcon['size'].max(), 300)\n",
        "spl = make_interp_spline(dfcon['size'], dfcon.time, k=3)\n",
        "power_smooth = spl(xnew)\n",
        "\n",
        "plt.plot(xnew, power_smooth)\n",
        "plt.xlabel(\"Number of pieces\")\n",
        "plt.ylabel(\"Time (s)\")\n",
        "plt.title(\"PLF - obj construction\")\n",
        "\n",
        "ax = fig.add_subplot(122)\n",
        "\n",
        "xnew = np.linspace(dfeval['size'].min(), dfeval['size'].max(), 300)\n",
        "spl = make_interp_spline(dfeval['size'], dfeval.time, k=3)\n",
        "power_smooth = spl(xnew)\n",
        "\n",
        "plt.plot(xnew, power_smooth)\n",
        "plt.xlabel(\"Number of pieces\")\n",
        "plt.ylabel(\"Time (s)\")\n",
        "plt.title(\"PLF - obj evaluation\")"
      ]
    },
    {
      "cell_type": "markdown",
      "metadata": {
        "id": "fTafQREODzwX"
      },
      "source": [
        "# Unit Tests"
      ]
    },
    {
      "cell_type": "markdown",
      "metadata": {
        "id": "9yw-bhLc7zH8"
      },
      "source": [
        "### PCF Tests"
      ]
    },
    {
      "cell_type": "code",
      "execution_count": null,
      "metadata": {
        "colab": {
          "base_uri": "https://localhost:8080/"
        },
        "id": "zmDig_iQD1OJ",
        "outputId": "a798f41c-0617-455a-b6ca-fa287d0aabf8"
      },
      "outputs": [
        {
          "output_type": "stream",
          "name": "stdout",
          "text": [
            "\u001b[32m.\u001b[0m\u001b[32m.\u001b[0m\u001b[32m.\u001b[0m\u001b[32m.\u001b[0m\u001b[32m.\u001b[0m\u001b[32m.\u001b[0m\u001b[32m.\u001b[0m\u001b[32m.\u001b[0m\u001b[32m.\u001b[0m\u001b[32m.\u001b[0m\u001b[32m                                                                                   [100%]\u001b[0m\n",
            "\u001b[32m\u001b[32m\u001b[1m10 passed\u001b[0m\u001b[32m in 0.07s\u001b[0m\u001b[0m\n"
          ]
        }
      ],
      "source": [
        "%%ipytest\n",
        "\n",
        "def test_constant_int():\n",
        "  segments = [[49, 137, 5],\n",
        "    [190, 197, 70],\n",
        "    [268, 312, 97],\n",
        "    [380, 406, 75],\n",
        "    [500, 564, 80],\n",
        "    [659, 719, 80],\n",
        "    [800, 877, 31],\n",
        "    [937, 1020, 59],\n",
        "    [1067, 1072, 1],\n",
        "    [1086, 1091, 3]]\n",
        "  foo = PCF(segments, verbose=False)\n",
        "  assert foo.evaluate(98, verbose=False) == 5\n",
        "\n",
        "def test_constant_float():\n",
        "  segments = [[38.65433548255448, 105.99110488275198, 64.2814350233044],\n",
        " [179.37664884385256, 235.9274732779227, 42.47344468499347],\n",
        " [271.01347698245314, 356.36826000729286, 10.183315462346055],\n",
        " [397.75359430476135, 422.2658597808539, 80.97059615189706],\n",
        " [425.3651354513574, 448.37085953465225, 36.367754845635744],\n",
        " [477.23359513951334, 536.498356710656, 36.57638646872503],\n",
        " [603.7110411994475, 620.2891298268797, 42.97130009390834],\n",
        " [696.2133921113203, 762.704062395386, 22.512117892395487],\n",
        " [829.3665613242625, 898.0328846205599, 94.88624848735682],\n",
        " [915.4362235291002, 970.798377860121, 69.7359567593277]]\n",
        "  foo = PCF(segments, verbose=False)\n",
        "  assert foo.evaluate(98, verbose=False) == 64.2814350233044\n",
        "\n",
        "def test_constant_out_of_range():\n",
        "  segments = rand_seg(0, 100, 10, float)\n",
        "  foo = PCF(segments, verbose=False)\n",
        "  assert np.isnan(foo.evaluate(-1, verbose=False))\n",
        "\n",
        "def test_constant_not_sorted():\n",
        "  segments = [[49, 137, 5],\n",
        "    [1067, 1072, 1],\n",
        "    [190, 197, 70],\n",
        "    [659, 719, 80],\n",
        "    [268, 312, 97],\n",
        "    [380, 406, 75],\n",
        "    [500, 564, 80],\n",
        "    [800, 877, 31],\n",
        "    [937, 1020, 59],\n",
        "    [1086, 1091, 3]]\n",
        "  foo = PCF(segments, verbose=False)\n",
        "  assert foo.evaluate(98, verbose=False) == 5\n",
        "\n",
        "def test_constant_with_overlap():\n",
        "  segments = [[49, 197, 5],\n",
        "    [190, 197, 70],\n",
        "    [268, 312, 97],\n",
        "    [380, 406, 75],\n",
        "    [500, 564, 80],\n",
        "    [659, 719, 80],\n",
        "    [800, 877, 31],\n",
        "    [937, 1020, 59],\n",
        "    [1092, 1072, 1],\n",
        "    [1086, 1091, 3]]\n",
        "  with pytest.raises(RangeIntersection):\n",
        "    foo = PCF(segments, verbose=False)\n",
        "\n",
        "def test_constant_not_sorted_with_overlap():\n",
        "  segments = [[49, 197, 5],\n",
        "    [380, 406, 75],\n",
        "    [190, 197, 70],\n",
        "    [268, 312, 97],\n",
        "    [500, 564, 80],\n",
        "    [1092, 1072, 1],\n",
        "    [659, 719, 80],\n",
        "    [800, 877, 31],\n",
        "    [937, 1020, 59],\n",
        "    [1086, 1091, 3]]\n",
        "  with pytest.raises(RangeIntersection):\n",
        "    foo = PCF(segments, verbose=False)\n",
        "\n",
        "def test_constant_empty():\n",
        "  segments = []\n",
        "  with pytest.raises(ValueError):\n",
        "    foo = PCF(segments, verbose=False)\n",
        "\n",
        "def test_constant_str():\n",
        "  segments = 'asd'\n",
        "  with pytest.raises(ValueError):\n",
        "    foo = PCF(segments, verbose=False)\n",
        "\n",
        "def test_constant_str_list():\n",
        "  segments = [['asd']]\n",
        "  with pytest.raises(ValueError):\n",
        "    foo = PCF(segments, verbose=False)\n",
        "\n",
        "def test_constant_array():\n",
        "  segments = np.array([1,2,3])\n",
        "  with pytest.raises(ValueError):\n",
        "    foo = PCF(segments, verbose=False)\n",
        "\n",
        "# nans, swapped, timeit perf test (rel)"
      ]
    },
    {
      "cell_type": "markdown",
      "metadata": {
        "id": "opb96qWA73RI"
      },
      "source": [
        "### PLF Tests"
      ]
    },
    {
      "cell_type": "code",
      "execution_count": null,
      "metadata": {
        "id": "zI2nXc_E1BZn",
        "colab": {
          "base_uri": "https://localhost:8080/"
        },
        "outputId": "88487e78-80ad-4f23-a45d-22ef06672b3f"
      },
      "outputs": [
        {
          "output_type": "stream",
          "name": "stdout",
          "text": [
            "\u001b[32m.\u001b[0m\u001b[32m.\u001b[0m\u001b[32m.\u001b[0m\u001b[32m.\u001b[0m\u001b[32m.\u001b[0m\u001b[32m.\u001b[0m\u001b[32m.\u001b[0m\u001b[32m.\u001b[0m\u001b[32m.\u001b[0m\u001b[32m.\u001b[0m\u001b[32m                                                                                   [100%]\u001b[0m\n",
            "\u001b[32m\u001b[32m\u001b[1m10 passed\u001b[0m\u001b[32m in 0.07s\u001b[0m\u001b[0m\n"
          ]
        }
      ],
      "source": [
        "%%ipytest\n",
        "\n",
        "def test_linear_int():\n",
        "  segments = [[24, 106, (84, 30), (103, 22)],\n",
        "  [160, 179, (166, 70), (168, 1)],\n",
        "  [225, 283, (279, 36), (244, 91)],\n",
        "  [374, 376, (374, 90), (375, 50)],\n",
        "  [437, 465, (457, 44), (447, 96)],\n",
        "  [506, 550, (506, 45), (526, 87)],\n",
        "  [638, 669, (667, 32), (650, 74)],\n",
        "  [708, 728, (721, 45), (713, 25)],\n",
        "  [794, 847, (802, 100), (802, 6)],\n",
        "  [914, 946, (941, 40), (932, 55)]]\n",
        "  foo = PLF(segments, verbose=False)\n",
        "  assert foo.evaluate(86, verbose=False) == 29.157894736842124\n",
        "\n",
        "def test_linear_float():\n",
        "  segments = [[61.608719437502955,\n",
        "  94.61824510396768,\n",
        "  (86.67012208638081, 54.526436543080926),\n",
        "  (92.53495492884417, 38.548086775060334)],\n",
        " [98.67457628632485,\n",
        "  165.9780105006286,\n",
        "  (132.51040269032995, 35.16607000475233),\n",
        "  (159.804350569375, 72.41821301229903)],\n",
        " [249.052759103968,\n",
        "  323.01571697466835,\n",
        "  (320.820903184191, 13.18219707517272),\n",
        "  (270.8134008818019, 56.165277391006285)],\n",
        " [398.7774277764288,\n",
        "  427.66161488222315,\n",
        "  (423.73104200670593, 78.72331740592399),\n",
        "  (418.53635565359195, 23.544107400794566)],\n",
        " [465.4619559078917,\n",
        "  514.1074514666584,\n",
        "  (508.66338871361376, 59.9079935216293),\n",
        "  (467.84400209723896, 99.39817370941016)],\n",
        " [581.6787922831787,\n",
        "  600.7628568942657,\n",
        "  (596.7339386782829, 0.29051318319248676),\n",
        "  (583.1566061623637, 28.4292067882828)],\n",
        " [649.8217683943182,\n",
        "  696.7886504186855,\n",
        "  (695.596038851046, 73.59042293422957),\n",
        "  (673.7131526210153, 98.79621515948085)],\n",
        " [762.328829905052,\n",
        "  805.3501679028484,\n",
        "  (788.8140945264776, 36.47436656383015),\n",
        "  (766.7694246316986, 24.831062277925618)],\n",
        " [844.9896405595892,\n",
        "  902.8602815545727,\n",
        "  (847.8169475489244, 80.06458909115497),\n",
        "  (851.6367359797382, 32.90096533865319)],\n",
        " [922.4836198432666,\n",
        "  931.381550669958,\n",
        "  (924.7493221930534, 16.534676824469564),\n",
        "  (923.8675786103917, 11.157236357862278)]]\n",
        "  foo = PLF(segments, verbose=False)\n",
        "  assert foo.evaluate(86, verbose=False) == 56.3521399128245\n",
        "\n",
        "def test_linear_out_of_range():\n",
        "  segments = [[24, 106, (84, 30), (103, 22)],\n",
        "  [160, 179, (166, 70), (168, 1)],\n",
        "  [225, 283, (279, 36), (244, 91)],\n",
        "  [374, 376, (374, 90), (375, 50)],\n",
        "  [437, 465, (457, 44), (447, 96)],\n",
        "  [506, 550, (506, 45), (526, 87)],\n",
        "  [638, 669, (667, 32), (650, 74)],\n",
        "  [708, 728, (721, 45), (713, 25)],\n",
        "  [794, 847, (802, 100), (802, 6)],\n",
        "  [914, 946, (941, 40), (932, 55)]]\n",
        "  foo = PLF(segments, verbose=False)\n",
        "  with pytest.raises(ValueNotInRange):\n",
        "    foo.evaluate(-1, verbose=False)\n",
        "\n",
        "def test_linear_not_sorted():\n",
        "  segments = [[24, 106, (84, 30), (103, 22)],\n",
        "  [160, 179, (166, 70), (168, 1)],\n",
        "  [638, 669, (667, 32), (650, 74)],\n",
        "  [225, 283, (279, 36), (244, 91)],\n",
        "  [374, 376, (374, 90), (375, 50)],\n",
        "  [794, 847, (802, 100), (802, 6)],\n",
        "  [437, 465, (457, 44), (447, 96)],\n",
        "  [506, 550, (506, 45), (526, 87)],\n",
        "  [708, 728, (721, 45), (713, 25)],\n",
        "  [914, 946, (941, 40), (932, 55)]]\n",
        "  foo = PLF(segments, verbose=False)\n",
        "  assert foo.evaluate(86, verbose=False) == 29.157894736842124\n",
        "\n",
        "def test_linear_with_overlap():\n",
        "  segments = [[24, 166, (84, 30), (103, 22)],\n",
        "  [160, 179, (166, 70), (168, 1)],\n",
        "  [638, 669, (667, 32), (650, 74)],\n",
        "  [225, 283, (279, 36), (244, 91)],\n",
        "  [374, 376, (374, 90), (375, 50)],\n",
        "  [794, 847, (802, 100), (802, 6)],\n",
        "  [437, 465, (457, 44), (447, 96)],\n",
        "  [506, 550, (506, 45), (526, 87)],\n",
        "  [708, 728, (721, 45), (713, 25)],\n",
        "  [914, 946, (941, 40), (932, 55)]]\n",
        "  with pytest.raises(RangeIntersection):\n",
        "    foo = PLF(segments, verbose=False)\n",
        "\n",
        "def test_linear_not_sorted_with_overlap():\n",
        "  segments = [[24, 166, (84, 30), (103, 22)],\n",
        "  [160, 179, (166, 70), (168, 1)],\n",
        "  [437, 465, (457, 44), (447, 96)],\n",
        "  [638, 669, (667, 32), (650, 74)],\n",
        "  [225, 283, (279, 36), (244, 91)],\n",
        "  [374, 376, (374, 90), (375, 50)],\n",
        "  [794, 847, (802, 100), (802, 6)],\n",
        "  [506, 550, (506, 45), (526, 87)],\n",
        "  [708, 728, (721, 45), (713, 25)],\n",
        "  [914, 946, (941, 40), (932, 55)]]\n",
        "  with pytest.raises(RangeIntersection):\n",
        "    foo = PLF(segments, verbose=False)\n",
        "\n",
        "def test_linear_empty():\n",
        "  segments = []\n",
        "  with pytest.raises(ValueError):\n",
        "    foo = PLF(segments, verbose=False)\n",
        "\n",
        "def test_linear_str():\n",
        "  segments = 'asd'\n",
        "  with pytest.raises(ValueError):\n",
        "    foo = PLF(segments, verbose=False)\n",
        "\n",
        "def test_linear_str_list():\n",
        "  segments = [['asd']]\n",
        "  with pytest.raises(ValueError):\n",
        "    foo = PLF(segments, verbose=False)\n",
        "\n",
        "def test_linear_array():\n",
        "  segments = np.array([1,2,3])\n",
        "  with pytest.raises(ValueError):\n",
        "    foo = PLF(segments, verbose=False)\n",
        "\n",
        "# nans, swapped, timeit perf test (rel)"
      ]
    }
  ],
  "metadata": {
    "colab": {
      "provenance": []
    },
    "kernelspec": {
      "display_name": "Python 3",
      "name": "python3"
    },
    "language_info": {
      "name": "python"
    }
  },
  "nbformat": 4,
  "nbformat_minor": 0
}